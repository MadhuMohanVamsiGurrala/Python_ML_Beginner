{
 "cells": [
  {
   "cell_type": "code",
   "execution_count": 1,
   "id": "d3b98545",
   "metadata": {},
   "outputs": [
    {
     "name": "stdout",
     "output_type": "stream",
     "text": [
      "Welcome to Data Visualization with Python\n"
     ]
    }
   ],
   "source": [
    "print(\"Welcome to Data Visualization with Python\")"
   ]
  },
  {
   "cell_type": "code",
   "execution_count": 2,
   "id": "7c5a9ac5",
   "metadata": {},
   "outputs": [
    {
     "name": "stdout",
     "output_type": "stream",
     "text": [
      "<class 'str'>\n"
     ]
    }
   ],
   "source": [
    "#A string variable\n",
    "first_name = \"Vamsi\"\n",
    "print(type(first_name))"
   ]
  },
  {
   "cell_type": "code",
   "execution_count": 3,
   "id": "9774d299",
   "metadata": {},
   "outputs": [
    {
     "name": "stdout",
     "output_type": "stream",
     "text": [
      "<class 'int'>\n"
     ]
    }
   ],
   "source": [
    "#An integer variable\n",
    "age = 20\n",
    "print(type(age))"
   ]
  },
  {
   "cell_type": "code",
   "execution_count": 4,
   "id": "f71d8934",
   "metadata": {},
   "outputs": [
    {
     "name": "stdout",
     "output_type": "stream",
     "text": [
      "<class 'float'>\n"
     ]
    }
   ],
   "source": [
    "#A floating point variable\n",
    "weight = 70.35\n",
    "print(type(weight))"
   ]
  },
  {
   "cell_type": "code",
   "execution_count": 5,
   "id": "bb09909f",
   "metadata": {},
   "outputs": [
    {
     "name": "stdout",
     "output_type": "stream",
     "text": [
      "<class 'bool'>\n"
     ]
    }
   ],
   "source": [
    "#A floating point variable\n",
    "married = False\n",
    "print(type(married))"
   ]
  },
  {
   "cell_type": "code",
   "execution_count": 6,
   "id": "7619e795",
   "metadata": {},
   "outputs": [
    {
     "name": "stdout",
     "output_type": "stream",
     "text": [
      "<class 'list'>\n"
     ]
    }
   ],
   "source": [
    "#list\n",
    "cars = [\"Honda\",\"Toyota\",\"Suzuki\"]\n",
    "print(type(cars))"
   ]
  },
  {
   "cell_type": "code",
   "execution_count": 7,
   "id": "e3db9d31",
   "metadata": {},
   "outputs": [
    {
     "name": "stdout",
     "output_type": "stream",
     "text": [
      "<class 'tuple'>\n"
     ]
    }
   ],
   "source": [
    "#tuples\n",
    "days=(\"Sunday\",\"Monday\",\"Tuesday\",\"Wednesday\",\"Thursday\",\"Friday\",\"Saturday\")\n",
    "print(type(days))"
   ]
  },
  {
   "cell_type": "code",
   "execution_count": 8,
   "id": "36a6928e",
   "metadata": {},
   "outputs": [
    {
     "name": "stdout",
     "output_type": "stream",
     "text": [
      "<class 'dict'>\n"
     ]
    }
   ],
   "source": [
    "#dictionaries\n",
    "days2 = {1:\"Sunday\", 2:\"Monday\", 3:\"Tuesday\", 4:\"Wednesday\", 5:\"Thursday\", 6:\"Friday\", 7:\"Saturday\"}\n",
    "print(type(days2))"
   ]
  },
  {
   "cell_type": "code",
   "execution_count": 9,
   "id": "b9f8485d",
   "metadata": {},
   "outputs": [
    {
     "name": "stdout",
     "output_type": "stream",
     "text": [
      "30\n",
      "10\n",
      "200\n",
      "2.0\n",
      "10240000000000\n"
     ]
    }
   ],
   "source": [
    "#Arithmetic Operators\n",
    "X = 20\n",
    "Y = 10\n",
    "print(X+Y)\n",
    "print(X-Y)\n",
    "print(X*Y)\n",
    "print(X/Y)\n",
    "print(X**Y)"
   ]
  },
  {
   "cell_type": "code",
   "execution_count": 10,
   "id": "8c62ddc1",
   "metadata": {},
   "outputs": [
    {
     "name": "stdout",
     "output_type": "stream",
     "text": [
      "False\n",
      "True\n",
      "True\n"
     ]
    }
   ],
   "source": [
    "#Logical Operators\n",
    "X = True\n",
    "Y = False\n",
    "print(X and Y)\n",
    "print(X or Y)\n",
    "print(not(X and Y))"
   ]
  },
  {
   "cell_type": "code",
   "execution_count": 11,
   "id": "dd80f277",
   "metadata": {},
   "outputs": [
    {
     "name": "stdout",
     "output_type": "stream",
     "text": [
      "False\n",
      "True\n",
      "False\n",
      "True\n",
      "False\n",
      "True\n"
     ]
    }
   ],
   "source": [
    "#Comparison Operators\n",
    "X = 20\n",
    "Y = 35\n",
    "print(X==Y)\n",
    "print(X!=Y)\n",
    "print(X>Y)\n",
    "print(X<Y)\n",
    "print(X>=Y)\n",
    "print(X<=Y)"
   ]
  },
  {
   "cell_type": "code",
   "execution_count": 12,
   "id": "8bcd6fef",
   "metadata": {},
   "outputs": [
    {
     "name": "stdout",
     "output_type": "stream",
     "text": [
      "30\n"
     ]
    }
   ],
   "source": [
    "#Assignment Operators\n",
    "X = 20\n",
    "Y = 10\n",
    "R = X+Y\n",
    "print(R)"
   ]
  },
  {
   "cell_type": "code",
   "execution_count": 13,
   "id": "07715e67",
   "metadata": {},
   "outputs": [
    {
     "name": "stdout",
     "output_type": "stream",
     "text": [
      "30\n"
     ]
    }
   ],
   "source": [
    "X = 20\n",
    "Y = 10\n",
    "X += Y\n",
    "print(X)"
   ]
  },
  {
   "cell_type": "code",
   "execution_count": 14,
   "id": "40dff62a",
   "metadata": {},
   "outputs": [
    {
     "name": "stdout",
     "output_type": "stream",
     "text": [
      "10\n"
     ]
    }
   ],
   "source": [
    "X = 20\n",
    "Y = 10\n",
    "X -= Y\n",
    "print(X)"
   ]
  },
  {
   "cell_type": "code",
   "execution_count": 15,
   "id": "11f28f53",
   "metadata": {},
   "outputs": [
    {
     "name": "stdout",
     "output_type": "stream",
     "text": [
      "200\n"
     ]
    }
   ],
   "source": [
    "X = 20\n",
    "Y = 10\n",
    "X *= Y\n",
    "print(X)"
   ]
  },
  {
   "cell_type": "code",
   "execution_count": 16,
   "id": "f44e4315",
   "metadata": {},
   "outputs": [
    {
     "name": "stdout",
     "output_type": "stream",
     "text": [
      "2.0\n"
     ]
    }
   ],
   "source": [
    "X = 20\n",
    "Y = 10\n",
    "X /= Y\n",
    "print(X)"
   ]
  },
  {
   "cell_type": "code",
   "execution_count": 17,
   "id": "299beb7a",
   "metadata": {},
   "outputs": [
    {
     "name": "stdout",
     "output_type": "stream",
     "text": [
      "0\n"
     ]
    }
   ],
   "source": [
    "X = 20\n",
    "Y = 10\n",
    "X %= Y\n",
    "print(X)"
   ]
  },
  {
   "cell_type": "code",
   "execution_count": 18,
   "id": "4eb36d30",
   "metadata": {},
   "outputs": [
    {
     "name": "stdout",
     "output_type": "stream",
     "text": [
      "10240000000000\n"
     ]
    }
   ],
   "source": [
    "X = 20\n",
    "Y = 10\n",
    "X **= Y\n",
    "print(X)"
   ]
  },
  {
   "cell_type": "code",
   "execution_count": 19,
   "id": "7a2d5a65",
   "metadata": {},
   "outputs": [
    {
     "name": "stdout",
     "output_type": "stream",
     "text": [
      "True\n"
     ]
    }
   ],
   "source": [
    "#Membership Operators\n",
    "days = (\"Sunday\",\"Monday\",\"Tuesday\",\"Wednesday\",\"Thursday\",\"Friday\",\"Saturday\")\n",
    "print('Sunday' in days)"
   ]
  },
  {
   "cell_type": "code",
   "execution_count": 20,
   "id": "e569b696",
   "metadata": {},
   "outputs": [
    {
     "name": "stdout",
     "output_type": "stream",
     "text": [
      "True\n"
     ]
    }
   ],
   "source": [
    "days = (\"Sunday\",\"Monday\",\"Tuesday\",\"Wednesday\",\"Thursday\",\"Friday\",\"Saturday\")\n",
    "print('Xunday' not in days)"
   ]
  },
  {
   "cell_type": "code",
   "execution_count": 21,
   "id": "c218d499",
   "metadata": {},
   "outputs": [
    {
     "name": "stdout",
     "output_type": "stream",
     "text": [
      "Ten is greater than 10\n"
     ]
    }
   ],
   "source": [
    "#IF statement\n",
    "if 10>5:\n",
    "    print(\"Ten is greater than 10\")"
   ]
  },
  {
   "cell_type": "code",
   "execution_count": 23,
   "id": "180030e7",
   "metadata": {},
   "outputs": [
    {
     "name": "stdout",
     "output_type": "stream",
     "text": [
      "10 is greater than 5\n"
     ]
    }
   ],
   "source": [
    "#if-else statement\n",
    "if 5>10:\n",
    "    print(\"5 is greater than 10\")\n",
    "else:\n",
    "    print(\"10 is greater than 5\")"
   ]
  },
  {
   "cell_type": "code",
   "execution_count": 24,
   "id": "2fcdd428",
   "metadata": {},
   "outputs": [
    {
     "name": "stdout",
     "output_type": "stream",
     "text": [
      "5 is not greater than 10 and 8 is not smaller than 4\n"
     ]
    }
   ],
   "source": [
    "#if-elif statement\n",
    "if 5>10:\n",
    "    print(\"5 is greater than 10\")\n",
    "elif 8<4:\n",
    "    print(\"8 is smaller than 4\")\n",
    "else:\n",
    "    print(\"5 is not greater than 10 and 8 is not smaller than 4\")"
   ]
  },
  {
   "cell_type": "code",
   "execution_count": 25,
   "id": "6b31672e",
   "metadata": {},
   "outputs": [
    {
     "name": "stdout",
     "output_type": "stream",
     "text": [
      "0\n",
      "1\n",
      "2\n",
      "3\n",
      "4\n"
     ]
    }
   ],
   "source": [
    "#for loop\n",
    "items = range(5)\n",
    "for item in items:\n",
    "    print(item)"
   ]
  },
  {
   "cell_type": "code",
   "execution_count": 26,
   "id": "4b9fd5b6",
   "metadata": {},
   "outputs": [
    {
     "name": "stdout",
     "output_type": "stream",
     "text": [
      "0\n",
      "1\n",
      "2\n",
      "3\n",
      "4\n",
      "5\n",
      "6\n",
      "7\n",
      "8\n",
      "9\n"
     ]
    }
   ],
   "source": [
    "#while loop\n",
    "c = 0\n",
    "while c<10:\n",
    "    print(c)\n",
    "    c = c+1"
   ]
  },
  {
   "cell_type": "code",
   "execution_count": 27,
   "id": "751a014d",
   "metadata": {},
   "outputs": [
    {
     "name": "stdout",
     "output_type": "stream",
     "text": [
      "This is a simple function\n"
     ]
    }
   ],
   "source": [
    "#functions\n",
    "def myfunc():\n",
    "    print(\"This is a simple function\")\n",
    "#function call\n",
    "myfunc()"
   ]
  },
  {
   "cell_type": "code",
   "execution_count": 28,
   "id": "f622d230",
   "metadata": {},
   "outputs": [
    {
     "name": "stdout",
     "output_type": "stream",
     "text": [
      "This is a function with parameter value:Parameter 1\n"
     ]
    }
   ],
   "source": [
    "def myfuncparam(num):\n",
    "    print(\"This is a function with parameter value:\"+num)\n",
    "#function call\n",
    "myfuncparam(\"Parameter 1\")"
   ]
  },
  {
   "cell_type": "code",
   "execution_count": 29,
   "id": "e7748beb",
   "metadata": {},
   "outputs": [
    {
     "name": "stdout",
     "output_type": "stream",
     "text": [
      "This function returns a value\n"
     ]
    }
   ],
   "source": [
    "def myreturnfunc():\n",
    "    return \"This function returns a value\"\n",
    "val = myreturnfunc()\n",
    "print(val)"
   ]
  },
  {
   "cell_type": "code",
   "execution_count": 30,
   "id": "d53d4fa3",
   "metadata": {},
   "outputs": [
    {
     "name": "stdout",
     "output_type": "stream",
     "text": [
      "Fruit has been eaten\n",
      "apple\n",
      "10\n"
     ]
    }
   ],
   "source": [
    "class Fruit:\n",
    "    name = \"apple\"\n",
    "    price = 10\n",
    "    def eat_fruit(self):\n",
    "        print(\"Fruit has been eaten\")\n",
    "f = Fruit()\n",
    "f.eat_fruit()\n",
    "print(f.name)\n",
    "print(f.price)"
   ]
  },
  {
   "cell_type": "code",
   "execution_count": 35,
   "id": "fa38a4e1",
   "metadata": {},
   "outputs": [
    {
     "name": "stdout",
     "output_type": "stream",
     "text": [
      "Fruit has been eaten\n",
      "Orange\n",
      "15\n"
     ]
    }
   ],
   "source": [
    "class Fruit:\n",
    "    name = \"apple\"\n",
    "    price = 10\n",
    "    def __init__(self,fruit_name,fruit_price):\n",
    "        Fruit.name = fruit_name\n",
    "        Fruit.price = fruit_price\n",
    "        \n",
    "    def eat_fruit(self):\n",
    "         print(\"Fruit has been eaten\")\n",
    "f = Fruit(\"Orange\",15)\n",
    "f.eat_fruit()\n",
    "print(f.name)\n",
    "print(f.price)"
   ]
  },
  {
   "cell_type": "code",
   "execution_count": null,
   "id": "e3127a6a",
   "metadata": {},
   "outputs": [],
   "source": []
  }
 ],
 "metadata": {
  "kernelspec": {
   "display_name": "Python 3 (ipykernel)",
   "language": "python",
   "name": "python3"
  },
  "language_info": {
   "codemirror_mode": {
    "name": "ipython",
    "version": 3
   },
   "file_extension": ".py",
   "mimetype": "text/x-python",
   "name": "python",
   "nbconvert_exporter": "python",
   "pygments_lexer": "ipython3",
   "version": "3.9.13"
  }
 },
 "nbformat": 4,
 "nbformat_minor": 5
}
