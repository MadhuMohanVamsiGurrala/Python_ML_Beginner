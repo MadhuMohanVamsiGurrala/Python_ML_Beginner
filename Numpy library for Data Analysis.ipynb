{
 "cells": [
  {
   "cell_type": "code",
   "execution_count": 1,
   "id": "67d82b41",
   "metadata": {},
   "outputs": [
    {
     "data": {
      "text/plain": [
       "numpy.ndarray"
      ]
     },
     "execution_count": 1,
     "metadata": {},
     "output_type": "execute_result"
    }
   ],
   "source": [
    "#using array method\n",
    "import numpy as np\n",
    "nums_list = [10,12,14,16,20]\n",
    "nums_array = np.array(nums_list)\n",
    "type(nums_array)"
   ]
  },
  {
   "cell_type": "code",
   "execution_count": 2,
   "id": "0fc70d1e",
   "metadata": {},
   "outputs": [
    {
     "data": {
      "text/plain": [
       "(3, 3)"
      ]
     },
     "execution_count": 2,
     "metadata": {},
     "output_type": "execute_result"
    }
   ],
   "source": [
    "row1 = [10,12,13]\n",
    "row2 = [45,32,16]\n",
    "row3 = [45,32,16]\n",
    "nums_2d = np.array([row1, row2, row3])\n",
    "nums_2d.shape"
   ]
  },
  {
   "cell_type": "code",
   "execution_count": 3,
   "id": "d6c6c229",
   "metadata": {},
   "outputs": [
    {
     "name": "stdout",
     "output_type": "stream",
     "text": [
      "[ 5  6  7  8  9 10]\n"
     ]
    }
   ],
   "source": [
    "#using arrange method\n",
    "nums_arr = np.arange(5,11)\n",
    "print(nums_arr)"
   ]
  },
  {
   "cell_type": "code",
   "execution_count": 4,
   "id": "4be7ec7a",
   "metadata": {},
   "outputs": [
    {
     "name": "stdout",
     "output_type": "stream",
     "text": [
      "[ 5  7  9 11]\n"
     ]
    }
   ],
   "source": [
    "nums_arr = np.arange(5,12,2)\n",
    "print(nums_arr)"
   ]
  },
  {
   "cell_type": "code",
   "execution_count": 5,
   "id": "614200f4",
   "metadata": {},
   "outputs": [
    {
     "name": "stdout",
     "output_type": "stream",
     "text": [
      "[1. 1. 1. 1. 1. 1.]\n"
     ]
    }
   ],
   "source": [
    "#using ones method\n",
    "ones_array = np.ones(6)\n",
    "print(ones_array)"
   ]
  },
  {
   "cell_type": "code",
   "execution_count": 6,
   "id": "014d4e7d",
   "metadata": {},
   "outputs": [
    {
     "name": "stdout",
     "output_type": "stream",
     "text": [
      "[[1. 1. 1. 1.]\n",
      " [1. 1. 1. 1.]\n",
      " [1. 1. 1. 1.]\n",
      " [1. 1. 1. 1.]\n",
      " [1. 1. 1. 1.]\n",
      " [1. 1. 1. 1.]]\n"
     ]
    }
   ],
   "source": [
    "ones_array = np.ones((6,4))\n",
    "print(ones_array)"
   ]
  },
  {
   "cell_type": "code",
   "execution_count": 7,
   "id": "168f28c5",
   "metadata": {},
   "outputs": [
    {
     "name": "stdout",
     "output_type": "stream",
     "text": [
      "[0. 0. 0. 0. 0. 0.]\n"
     ]
    }
   ],
   "source": [
    "#using zeroes method\n",
    "zeros_array = np.zeros(6)\n",
    "print(zeros_array)"
   ]
  },
  {
   "cell_type": "code",
   "execution_count": 8,
   "id": "953bfdc5",
   "metadata": {},
   "outputs": [
    {
     "name": "stdout",
     "output_type": "stream",
     "text": [
      "[[0. 0. 0. 0.]\n",
      " [0. 0. 0. 0.]\n",
      " [0. 0. 0. 0.]\n",
      " [0. 0. 0. 0.]\n",
      " [0. 0. 0. 0.]\n",
      " [0. 0. 0. 0.]]\n"
     ]
    }
   ],
   "source": [
    "zeros_array = np.zeros((6,4))\n",
    "print(zeros_array)"
   ]
  },
  {
   "cell_type": "code",
   "execution_count": 9,
   "id": "5c75d4d4",
   "metadata": {},
   "outputs": [
    {
     "name": "stdout",
     "output_type": "stream",
     "text": [
      "[[1. 0. 0. 0. 0.]\n",
      " [0. 1. 0. 0. 0.]\n",
      " [0. 0. 1. 0. 0.]\n",
      " [0. 0. 0. 1. 0.]\n",
      " [0. 0. 0. 0. 1.]]\n"
     ]
    }
   ],
   "source": [
    "#using eyes method\n",
    "eyes_array = np.eye(5)\n",
    "print(eyes_array)"
   ]
  },
  {
   "cell_type": "code",
   "execution_count": 10,
   "id": "20d78e06",
   "metadata": {},
   "outputs": [
    {
     "name": "stdout",
     "output_type": "stream",
     "text": [
      "[[0.05052911 0.3648792  0.63813839 0.29314422 0.32531986]\n",
      " [0.6505372  0.89700599 0.31973365 0.67250863 0.13098439]\n",
      " [0.81270925 0.74377073 0.63457844 0.8151794  0.3750912 ]\n",
      " [0.68652803 0.50435982 0.95399121 0.17078665 0.57074338]]\n"
     ]
    }
   ],
   "source": [
    "#using random rand method\n",
    "uniform_random = np.random.rand(4,5)\n",
    "print(uniform_random)"
   ]
  },
  {
   "cell_type": "code",
   "execution_count": 12,
   "id": "1af8eac9",
   "metadata": {},
   "outputs": [
    {
     "name": "stdout",
     "output_type": "stream",
     "text": [
      "[[ 0.72788291 -0.59656854  0.92881293  1.08868953  1.9193148 ]\n",
      " [ 0.83926081  0.58683466 -0.47129629  1.13518588 -0.05897173]\n",
      " [-0.99200782  2.35399353  1.46877744 -1.16059162  1.35635394]\n",
      " [-0.20550493 -0.05415069 -0.20296675 -1.67901488  1.55083604]]\n"
     ]
    }
   ],
   "source": [
    "normal_random = np.random.randn(4,5)\n",
    "print(normal_random)"
   ]
  },
  {
   "cell_type": "code",
   "execution_count": 13,
   "id": "af79d1ce",
   "metadata": {},
   "outputs": [
    {
     "name": "stdout",
     "output_type": "stream",
     "text": [
      "[44 49 24 47 47]\n"
     ]
    }
   ],
   "source": [
    "integer_random = np.random.randint(10,50,5)\n",
    "print(integer_random)"
   ]
  },
  {
   "cell_type": "code",
   "execution_count": 14,
   "id": "3ef80b02",
   "metadata": {},
   "outputs": [
    {
     "name": "stdout",
     "output_type": "stream",
     "text": [
      "[[0.77851851 0.65200019 0.57849317 0.63348531 0.97168464 0.20686721\n",
      "  0.52543007 0.55007948]\n",
      " [0.84912704 0.51960163 0.08174837 0.6370909  0.26416582 0.52877784\n",
      "  0.81194846 0.45221943]\n",
      " [0.7410344  0.5187222  0.9083829  0.50401175 0.56178012 0.482188\n",
      "  0.36979633 0.20918933]]\n"
     ]
    }
   ],
   "source": [
    "#Reshaping numpy arrays\n",
    "uniform_random = np.random.rand(4,6)\n",
    "uniform_random = uniform_random.reshape(3,8)\n",
    "print(uniform_random)"
   ]
  },
  {
   "cell_type": "code",
   "execution_count": 15,
   "id": "cb0a42a8",
   "metadata": {},
   "outputs": [
    {
     "name": "stdout",
     "output_type": "stream",
     "text": [
      "[ 1  2  3  4  5  6  7  8  9 10]\n"
     ]
    }
   ],
   "source": [
    "#Array indexing and slicing\n",
    "s = np.arange(1,11)\n",
    "print(s)"
   ]
  },
  {
   "cell_type": "code",
   "execution_count": 16,
   "id": "34b0910f",
   "metadata": {},
   "outputs": [
    {
     "name": "stdout",
     "output_type": "stream",
     "text": [
      "2\n"
     ]
    }
   ],
   "source": [
    "print(s[1])"
   ]
  },
  {
   "cell_type": "code",
   "execution_count": 17,
   "id": "fbbc7d07",
   "metadata": {},
   "outputs": [
    {
     "name": "stdout",
     "output_type": "stream",
     "text": [
      "[2 3 4 5 6 7 8 9]\n"
     ]
    }
   ],
   "source": [
    "print(s[1:9])"
   ]
  },
  {
   "cell_type": "code",
   "execution_count": 18,
   "id": "b3ff03b1",
   "metadata": {},
   "outputs": [
    {
     "name": "stdout",
     "output_type": "stream",
     "text": [
      "[1 2 3 4 5]\n",
      "[ 6  7  8  9 10]\n"
     ]
    }
   ],
   "source": [
    "print(s[:5])\n",
    "print(s[5:])"
   ]
  },
  {
   "cell_type": "code",
   "execution_count": 19,
   "id": "ac2aa341",
   "metadata": {},
   "outputs": [
    {
     "name": "stdout",
     "output_type": "stream",
     "text": [
      "[[10 12 13]\n",
      " [45 32 16]]\n"
     ]
    }
   ],
   "source": [
    "row1 = [10,12,13]\n",
    "row2 = [45,32,16]\n",
    "row3 = [45,32,16]\n",
    "nums_2d = np.array([row1,row2,row3])\n",
    "print(nums_2d[:2,:])"
   ]
  },
  {
   "cell_type": "code",
   "execution_count": 20,
   "id": "fdfc531a",
   "metadata": {},
   "outputs": [
    {
     "name": "stdout",
     "output_type": "stream",
     "text": [
      "[[10 12]\n",
      " [45 32]\n",
      " [45 32]]\n"
     ]
    }
   ],
   "source": [
    "row1 = [10,12,13]\n",
    "row2 = [45,32,16]\n",
    "row3 = [45,32,16]\n",
    "nums_2d = np.array([row1,row2,row3])\n",
    "print(nums_2d[:,:2])"
   ]
  },
  {
   "cell_type": "code",
   "execution_count": 21,
   "id": "967df89f",
   "metadata": {},
   "outputs": [
    {
     "name": "stdout",
     "output_type": "stream",
     "text": [
      "[[32 16]\n",
      " [32 16]]\n"
     ]
    }
   ],
   "source": [
    "row1 = [10,12,13]\n",
    "row2 = [45,32,16]\n",
    "row3 = [45,32,16]\n",
    "nums_2d = np.array([row1,row2,row3])\n",
    "print(nums_2d[1:,1:])"
   ]
  },
  {
   "cell_type": "code",
   "execution_count": 22,
   "id": "356434eb",
   "metadata": {},
   "outputs": [
    {
     "name": "stdout",
     "output_type": "stream",
     "text": [
      "[3.16227766 4.47213595 5.47722558 6.32455532 7.07106781]\n"
     ]
    }
   ],
   "source": [
    "#Finding square roots\n",
    "nums = [10,20,30,40,50]\n",
    "np_sqr = np.sqrt(nums)\n",
    "print(np_sqr)"
   ]
  },
  {
   "cell_type": "code",
   "execution_count": 23,
   "id": "63de1234",
   "metadata": {},
   "outputs": [
    {
     "name": "stdout",
     "output_type": "stream",
     "text": [
      "[2.30258509 2.99573227 3.40119738 3.68887945 3.91202301]\n"
     ]
    }
   ],
   "source": [
    "#Finding logs\n",
    "nums = [10,20,30,40,50]\n",
    "np_log = np.log(nums)\n",
    "print(np_log)"
   ]
  },
  {
   "cell_type": "code",
   "execution_count": 24,
   "id": "fea92aee",
   "metadata": {},
   "outputs": [
    {
     "name": "stdout",
     "output_type": "stream",
     "text": [
      "[2.20264658e+04 4.85165195e+08 1.06864746e+13 2.35385267e+17\n",
      " 5.18470553e+21]\n"
     ]
    }
   ],
   "source": [
    "#Finding exponents\n",
    "nums = [10,20,30,40,50]\n",
    "np_exp = np.exp(nums)\n",
    "print(np_exp)"
   ]
  },
  {
   "cell_type": "code",
   "execution_count": 25,
   "id": "de4ed2a4",
   "metadata": {},
   "outputs": [
    {
     "name": "stdout",
     "output_type": "stream",
     "text": [
      "[-0.54402111  0.91294525 -0.98803162  0.74511316 -0.26237485]\n",
      "[-0.83907153  0.40808206  0.15425145 -0.66693806  0.96496603]\n"
     ]
    }
   ],
   "source": [
    "#Finding sine and cosine\n",
    "nums = [10,20,30,40,50]\n",
    "np_sine = np.sin(nums)\n",
    "print(np_sine)\n",
    "np_cos = np.cos(nums)\n",
    "print(np_cos)"
   ]
  },
  {
   "cell_type": "code",
   "execution_count": 26,
   "id": "c3e36bba",
   "metadata": {},
   "outputs": [
    {
     "name": "stdout",
     "output_type": "stream",
     "text": [
      "[[-0.11923618  0.53528532  3.12250845  2.43151144]\n",
      " [ 2.33216762  0.62009425  1.37107098  2.37880712]\n",
      " [ 2.23935598  1.52039662  0.01007628  1.77715325]\n",
      " [-0.34787074  0.62346234  2.10918787  1.79386675]]\n"
     ]
    }
   ],
   "source": [
    "#Finding matrix dot product\n",
    "A = np.random.randn(4,5)\n",
    "B = np.random.randn(5,4)\n",
    "Z = np.dot(A,B)\n",
    "print(Z)"
   ]
  },
  {
   "cell_type": "code",
   "execution_count": 28,
   "id": "e2ad0de7",
   "metadata": {},
   "outputs": [
    {
     "name": "stdout",
     "output_type": "stream",
     "text": [
      "[[ 100  144  169]\n",
      " [2025 1024  256]\n",
      " [2025 1024  256]]\n"
     ]
    }
   ],
   "source": [
    "#Element wise matrix multiplication\n",
    "row1 = [10,12,13]\n",
    "row2 = [45,32,16]\n",
    "row3 = [45,32,16]\n",
    "nums_2d = np.array([row1,row2,row3])\n",
    "multiply = np.multiply(nums_2d,nums_2d)\n",
    "print(multiply)"
   ]
  },
  {
   "cell_type": "code",
   "execution_count": 29,
   "id": "9a3fe844",
   "metadata": {},
   "outputs": [
    {
     "name": "stdout",
     "output_type": "stream",
     "text": [
      "[[ 3.15251974e+15 -6.30503948e+15  3.15251974e+15]\n",
      " [-6.30503948e+15  1.26100790e+16 -6.30503948e+15]\n",
      " [ 3.15251974e+15 -6.30503948e+15  3.15251974e+15]]\n"
     ]
    }
   ],
   "source": [
    "#Finding matrix inverse\n",
    "row1 = [1,2,3]\n",
    "row2 = [4,5,6]\n",
    "row3 = [7,8,9]\n",
    "nums_2d = np.array([row1,row2,row3])\n",
    "inverse = np.linalg.inv(nums_2d)\n",
    "print(inverse)"
   ]
  },
  {
   "cell_type": "code",
   "execution_count": 30,
   "id": "e697b600",
   "metadata": {},
   "outputs": [
    {
     "name": "stdout",
     "output_type": "stream",
     "text": [
      "-9.51619735392994e-16\n"
     ]
    }
   ],
   "source": [
    "#Finding matrix determinant\n",
    "row1 = [1,2,3]\n",
    "row2 = [4,5,6]\n",
    "row3 = [7,8,9]\n",
    "nums_2d = np.array([row1,row2,row3])\n",
    "determinant = np.linalg.det(nums_2d)\n",
    "print(determinant)"
   ]
  },
  {
   "cell_type": "code",
   "execution_count": 31,
   "id": "092b4c04",
   "metadata": {},
   "outputs": [
    {
     "name": "stdout",
     "output_type": "stream",
     "text": [
      "15\n"
     ]
    }
   ],
   "source": [
    "#Finding matrix trace\n",
    "row1 = [1,2,3]\n",
    "row2 = [4,5,6]\n",
    "row3 = [7,8,9]\n",
    "nums_2d = np.array([row1,row2,row3])\n",
    "trace = np.trace(nums_2d)\n",
    "print(trace)"
   ]
  },
  {
   "cell_type": "code",
   "execution_count": null,
   "id": "31034604",
   "metadata": {},
   "outputs": [],
   "source": []
  }
 ],
 "metadata": {
  "kernelspec": {
   "display_name": "Python 3 (ipykernel)",
   "language": "python",
   "name": "python3"
  },
  "language_info": {
   "codemirror_mode": {
    "name": "ipython",
    "version": 3
   },
   "file_extension": ".py",
   "mimetype": "text/x-python",
   "name": "python",
   "nbconvert_exporter": "python",
   "pygments_lexer": "ipython3",
   "version": "3.9.13"
  }
 },
 "nbformat": 4,
 "nbformat_minor": 5
}
